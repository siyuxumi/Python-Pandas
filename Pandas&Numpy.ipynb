{
  "nbformat": 4,
  "nbformat_minor": 0,
  "metadata": {
    "colab": {
      "name": "Pandas&Numpy",
      "provenance": [],
      "collapsed_sections": []
    },
    "kernelspec": {
      "name": "python3",
      "display_name": "Python 3"
    }
  },
  "cells": [
    {
      "cell_type": "markdown",
      "metadata": {
        "id": "U3Yz3s2uio1F"
      },
      "source": [
        "**Q1. Lets consider your data is like the below cell:**\n",
        "\n",
        "**Q1-1**: Write a program that create a dataframe from the data.\n",
        "\n",
        "**Q1-2:** Select people that are psychologist or teacher and their number of cars is greater than their family size.\n",
        "\n",
        "**Q1-3:** Select people who have at most 2 family members and at least 1 car.\n",
        "\n",
        "**Q1-4:** Write a code that get number of unique jobs in this dataset.\n",
        "\n",
        "\n",
        "\n"
      ]
    },
    {
      "cell_type": "code",
      "metadata": {
        "id": "yR8lcOtcjxXD"
      },
      "source": [
        "data = {\"name\": [\"Joseph\", \"Jacob\", \"Sam\", \"Jesee\", \"Ryan\", \"Lisa\", \"Lee\"],\n",
        "        \"job\": [\"teacher\", \"psychologist\", \"data scientist\", \"software developer\", \"psychologist\", \"psychologist\", \"teacher\"],\n",
        "        \"family_size\": [3, 2, 1, 4, 2, 3, 2],\n",
        "        \"num_cars\": [3, 1, 1, 2, 2, 4, 1]}"
      ],
      "execution_count": null,
      "outputs": []
    },
    {
      "cell_type": "code",
      "metadata": {
        "id": "Youi5qMaP34p",
        "colab": {
          "base_uri": "https://localhost:8080/"
        },
        "outputId": "e1d28b0f-61ca-4606-ca15-9637cd43c5f5"
      },
      "source": [
        "import pandas as pd\n",
        "frame = pd.DataFrame(data)\n",
        "# Q1\n",
        "print(frame)\n",
        "# Q2\n",
        "print()\n",
        "print(frame[((frame[\"job\"] == \"psychologist\") | (frame[\"job\"] == \"teacher\")) & (frame[\"num_cars\"]> frame[\"family_size\"])])\n",
        "# Q3\n",
        "print()\n",
        "print(frame[(frame[\"family_size\"] <= 2) & (frame[\"num_cars\"] >= 1)])\n",
        "# Q4\n",
        "print()\n",
        "uniquejobs = frame[\"job\"].nunique()\n",
        "print(\"Number of unique jobs in this dataset is\", uniquejobs)"
      ],
      "execution_count": null,
      "outputs": [
        {
          "output_type": "stream",
          "text": [
            "     name                 job  family_size  num_cars\n",
            "0  Joseph             teacher            3         3\n",
            "1   Jacob        psychologist            2         1\n",
            "2     Sam      data scientist            1         1\n",
            "3   Jesee  software developer            4         2\n",
            "4    Ryan        psychologist            2         2\n",
            "5    Lisa        psychologist            3         4\n",
            "6     Lee             teacher            2         1\n",
            "\n",
            "   name           job  family_size  num_cars\n",
            "5  Lisa  psychologist            3         4\n",
            "\n",
            "    name             job  family_size  num_cars\n",
            "1  Jacob    psychologist            2         1\n",
            "2    Sam  data scientist            1         1\n",
            "4   Ryan    psychologist            2         2\n",
            "6    Lee         teacher            2         1\n",
            "\n",
            "Number of unique jobs in this dataset is 4\n"
          ],
          "name": "stdout"
        }
      ]
    },
    {
      "cell_type": "markdown",
      "metadata": {
        "id": "Ow6nG8k4l91X"
      },
      "source": [
        "**Q2. Lets consider you have two series like the below cell. Compute the mean of weights of each fruit.**"
      ]
    },
    {
      "cell_type": "code",
      "metadata": {
        "id": "u-X_DoOzVLLB"
      },
      "source": [
        "import numpy as np\n",
        "fruit = pd.Series(np.random.choice(['apple', 'banana', 'carrot'], 10))\n",
        "weights = pd.Series(np.linspace(1, 10, 10))"
      ],
      "execution_count": null,
      "outputs": []
    },
    {
      "cell_type": "code",
      "metadata": {
        "id": "S419nzYnpU__",
        "colab": {
          "base_uri": "https://localhost:8080/"
        },
        "outputId": "26576aad-ec17-4207-fd35-6fbf1322e915"
      },
      "source": [
        "data = {\"fruit\": fruit, \"weights\":weights}\n",
        "df = pd.DataFrame(data)\n",
        "print(\"Apple:\")\n",
        "print(pd.DataFrame.mean(df.weights[fruit == \"apple\"]))\n",
        "print(\"Banana:\")\n",
        "print(pd.DataFrame.mean(df.weights[fruit == \"banana\"]))\n",
        "print(\"Carrot:\")\n",
        "print(pd.DataFrame.mean(df.weights[fruit == \"carrot\"]))"
      ],
      "execution_count": null,
      "outputs": [
        {
          "output_type": "stream",
          "text": [
            "Apple:\n",
            "4.0\n",
            "Banana:\n",
            "4.8\n",
            "Carrot:\n",
            "9.5\n"
          ],
          "name": "stdout"
        }
      ]
    },
    {
      "cell_type": "markdown",
      "metadata": {
        "id": "g4lKaPIhtVrt"
      },
      "source": [
        "**Q3. Consider the below course_name array:**\n",
        "\n",
        "**Q3-1**: Write a NumPy program to get the indices of the sorted elements of **course_name** array.\n",
        "\n",
        "**Q3-2:** Write numpy code to check whether each element of **course_name** array starts with \"P\".\n"
      ]
    },
    {
      "cell_type": "code",
      "metadata": {
        "id": "RUP_jp2KtVrx"
      },
      "source": [
        "import numpy as np\n",
        "course_name = np.array(['Python', 'JS', 'examples', 'PHP', 'html'])"
      ],
      "execution_count": null,
      "outputs": []
    },
    {
      "cell_type": "code",
      "metadata": {
        "id": "U1i27POxv-o_",
        "colab": {
          "base_uri": "https://localhost:8080/"
        },
        "outputId": "9ce22b91-a5be-4527-f1a8-6913a0b7b25e"
      },
      "source": [
        "import numpy as np\n",
        "course_name = np.array(['Python', 'JS', 'examples', 'PHP', 'html'])\n",
        "#Q1\n",
        "course_name_sorted = np.sort(course_name)\n",
        "courseindex=[]\n",
        "for i in course_name_sorted:\n",
        "  courseindex.append(np.where(course_name == i))\n",
        "print(courseindex)\n",
        "#Q2\n",
        "check = np.char.startswith(course_name, \"P\")\n",
        "print(check)"
      ],
      "execution_count": null,
      "outputs": [
        {
          "output_type": "stream",
          "text": [
            "[(array([1]),), (array([3]),), (array([0]),), (array([2]),), (array([4]),)]\n",
            "[ True False False  True False]\n"
          ],
          "name": "stdout"
        }
      ]
    },
    {
      "cell_type": "markdown",
      "metadata": {
        "id": "sUFItNFOxwkz"
      },
      "source": [
        "**Q4. Consider the below student_id array:**\n",
        "\n",
        "**Q4-1:** Reverse the **student_id** array. Print both original and reversed array.\n",
        "\n",
        "**Q4-2:** Get the 3-largest values of **student_id** array."
      ]
    },
    {
      "cell_type": "code",
      "metadata": {
        "id": "Rl5qzEjFv0nw"
      },
      "source": [
        "import numpy as np\n",
        "student_id = np.array([1023, 5202, 6230, 1671, 1682, 5241, 4532])"
      ],
      "execution_count": null,
      "outputs": []
    },
    {
      "cell_type": "code",
      "metadata": {
        "id": "EetvHGrUxMCC",
        "colab": {
          "base_uri": "https://localhost:8080/"
        },
        "outputId": "0fce662a-3991-49cf-ad9d-23f21cf7240c"
      },
      "source": [
        "#Q1\n",
        "import numpy as np\n",
        "student_id = np.array([1023, 5202, 6230, 1671, 1682, 5241, 4532])\n",
        "print(\"original:\", student_id)\n",
        "id_reversed = student_id[::-1]\n",
        "print(\"reversed:\", id_reversed)\n",
        "# Q2\n",
        "id_sorted = np.sort(id_reversed)\n",
        "print(\"The 3-largest values of student id is\", id_sorted[-3])"
      ],
      "execution_count": null,
      "outputs": [
        {
          "output_type": "stream",
          "text": [
            "original: [1023 5202 6230 1671 1682 5241 4532]\n",
            "reversed: [4532 5241 1682 1671 6230 5202 1023]\n",
            "The 3-largest values of student id is 5202\n"
          ],
          "name": "stdout"
        }
      ]
    },
    {
      "cell_type": "markdown",
      "metadata": {
        "id": "uKRyDVuW6B19"
      },
      "source": [
        "# **Q5: Write a numpy program to print sum of all the multiples of 3 or 5 below 100**"
      ]
    },
    {
      "cell_type": "code",
      "metadata": {
        "id": "ZIixq1gz6OK3",
        "colab": {
          "base_uri": "https://localhost:8080/"
        },
        "outputId": "818f92c5-f504-439a-d8b0-8011701d48fd"
      },
      "source": [
        "# Type your solution here\n",
        "import numpy as np\n",
        "# Hint: you can use arange to start off\n",
        "arr1 = np.arange(3,100)\n",
        "arr2 = arr1[(arr1 % 3 ==0) | (arr1%5 ==0)]\n",
        "print(np.sum(arr2))"
      ],
      "execution_count": null,
      "outputs": [
        {
          "output_type": "stream",
          "text": [
            "2318\n"
          ],
          "name": "stdout"
        }
      ]
    },
    {
      "cell_type": "markdown",
      "metadata": {
        "id": "2CWJOsP24c34"
      },
      "source": [
        "**Q6. Consider the below array.**\n",
        "\n",
        "Q6.1. Write a code to swap column 1 with column 2.\n",
        "\n",
        "Q6.2. Write a code to swap row 0 with row 1."
      ]
    },
    {
      "cell_type": "code",
      "metadata": {
        "id": "3OG6X5Eg5KSM"
      },
      "source": [
        "import numpy as np\n",
        "\n",
        "arr = np.arange(12).reshape(3,4)\n",
        "print(arr)"
      ],
      "execution_count": null,
      "outputs": []
    },
    {
      "cell_type": "code",
      "metadata": {
        "id": "Q-Q91DpO5YYW",
        "colab": {
          "base_uri": "https://localhost:8080/"
        },
        "outputId": "8d4af68f-81a4-4e2b-ef86-7819c93bea1a"
      },
      "source": [
        "import numpy as np\n",
        "arr = np.arange(12).reshape(3,4)\n",
        "#Q1\n",
        "print(\"Original array:\\n\", arr)\n",
        "arr[:, [1,2]] = arr[:,[2,1]]\n",
        "print(\"Swapped-columns array:\\n\", arr)\n",
        "#Q2\n",
        "arr = np.arange(12).reshape(3,4)\n",
        "arr[[0,1],:] = arr[[1,0],:]\n",
        "print(\"Swapped-rows array:\\n\", arr)"
      ],
      "execution_count": null,
      "outputs": [
        {
          "output_type": "stream",
          "text": [
            "Original array:\n",
            " [[ 0  1  2  3]\n",
            " [ 4  5  6  7]\n",
            " [ 8  9 10 11]]\n",
            "Swapped-columns array:\n",
            " [[ 0  2  1  3]\n",
            " [ 4  6  5  7]\n",
            " [ 8 10  9 11]]\n",
            "Swapped-rows array:\n",
            " [[ 4  5  6  7]\n",
            " [ 0  1  2  3]\n",
            " [ 8  9 10 11]]\n"
          ],
          "name": "stdout"
        }
      ]
    }
  ]
}